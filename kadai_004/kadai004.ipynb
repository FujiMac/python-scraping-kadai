{
  "nbformat": 4,
  "nbformat_minor": 0,
  "metadata": {
    "colab": {
      "provenance": []
    },
    "kernelspec": {
      "name": "python3",
      "display_name": "Python 3"
    },
    "language_info": {
      "name": "python"
    }
  },
  "cells": [
    {
      "cell_type": "code",
      "execution_count": null,
      "metadata": {
        "colab": {
          "base_uri": "https://localhost:8080/"
        },
        "id": "qyQ7Hmx0WCJa",
        "outputId": "dabab06c-e929-4dcf-d1bf-ae59d75ae5c9"
      },
      "outputs": [
        {
          "output_type": "stream",
          "name": "stdout",
          "text": [
            "Requirement already satisfied: selenium in /usr/local/lib/python3.11/dist-packages (4.29.0)\n",
            "Requirement already satisfied: urllib3<3,>=1.26 in /usr/local/lib/python3.11/dist-packages (from urllib3[socks]<3,>=1.26->selenium) (2.3.0)\n",
            "Requirement already satisfied: trio~=0.17 in /usr/local/lib/python3.11/dist-packages (from selenium) (0.29.0)\n",
            "Requirement already satisfied: trio-websocket~=0.9 in /usr/local/lib/python3.11/dist-packages (from selenium) (0.12.2)\n",
            "Requirement already satisfied: certifi>=2021.10.8 in /usr/local/lib/python3.11/dist-packages (from selenium) (2025.1.31)\n",
            "Requirement already satisfied: typing_extensions~=4.9 in /usr/local/lib/python3.11/dist-packages (from selenium) (4.12.2)\n",
            "Requirement already satisfied: websocket-client~=1.8 in /usr/local/lib/python3.11/dist-packages (from selenium) (1.8.0)\n",
            "Requirement already satisfied: attrs>=23.2.0 in /usr/local/lib/python3.11/dist-packages (from trio~=0.17->selenium) (25.1.0)\n",
            "Requirement already satisfied: sortedcontainers in /usr/local/lib/python3.11/dist-packages (from trio~=0.17->selenium) (2.4.0)\n",
            "Requirement already satisfied: idna in /usr/local/lib/python3.11/dist-packages (from trio~=0.17->selenium) (3.10)\n",
            "Requirement already satisfied: outcome in /usr/local/lib/python3.11/dist-packages (from trio~=0.17->selenium) (1.3.0.post0)\n",
            "Requirement already satisfied: sniffio>=1.3.0 in /usr/local/lib/python3.11/dist-packages (from trio~=0.17->selenium) (1.3.1)\n",
            "Requirement already satisfied: wsproto>=0.14 in /usr/local/lib/python3.11/dist-packages (from trio-websocket~=0.9->selenium) (1.2.0)\n",
            "Requirement already satisfied: pysocks!=1.5.7,<2.0,>=1.5.6 in /usr/local/lib/python3.11/dist-packages (from urllib3[socks]<3,>=1.26->selenium) (1.7.1)\n",
            "Requirement already satisfied: h11<1,>=0.9.0 in /usr/local/lib/python3.11/dist-packages (from wsproto>=0.14->trio-websocket~=0.9->selenium) (0.14.0)\n"
          ]
        }
      ],
      "source": [
        "!pip install selenium"
      ]
    },
    {
      "cell_type": "code",
      "source": [
        "!pip install beautifulsoup4"
      ],
      "metadata": {
        "colab": {
          "base_uri": "https://localhost:8080/"
        },
        "id": "qGlApLaKRlut",
        "outputId": "39667238-3309-4218-a391-34990f6c7ae9"
      },
      "execution_count": null,
      "outputs": [
        {
          "output_type": "stream",
          "name": "stdout",
          "text": [
            "Requirement already satisfied: beautifulsoup4 in /usr/local/lib/python3.11/dist-packages (4.13.3)\n",
            "Requirement already satisfied: soupsieve>1.2 in /usr/local/lib/python3.11/dist-packages (from beautifulsoup4) (2.6)\n",
            "Requirement already satisfied: typing-extensions>=4.0.0 in /usr/local/lib/python3.11/dist-packages (from beautifulsoup4) (4.12.2)\n"
          ]
        }
      ]
    },
    {
      "cell_type": "code",
      "source": [
        "pip install selenium beautifulsoup4 webdriver-manager"
      ],
      "metadata": {
        "colab": {
          "base_uri": "https://localhost:8080/"
        },
        "id": "jHO1chPBlmpl",
        "outputId": "502d411c-350b-40c5-aeda-88fd5ed1bed4"
      },
      "execution_count": null,
      "outputs": [
        {
          "output_type": "stream",
          "name": "stdout",
          "text": [
            "Requirement already satisfied: selenium in /usr/local/lib/python3.11/dist-packages (4.29.0)\n",
            "Requirement already satisfied: beautifulsoup4 in /usr/local/lib/python3.11/dist-packages (4.13.3)\n",
            "Requirement already satisfied: webdriver-manager in /usr/local/lib/python3.11/dist-packages (4.0.2)\n",
            "Requirement already satisfied: urllib3<3,>=1.26 in /usr/local/lib/python3.11/dist-packages (from urllib3[socks]<3,>=1.26->selenium) (2.3.0)\n",
            "Requirement already satisfied: trio~=0.17 in /usr/local/lib/python3.11/dist-packages (from selenium) (0.29.0)\n",
            "Requirement already satisfied: trio-websocket~=0.9 in /usr/local/lib/python3.11/dist-packages (from selenium) (0.12.2)\n",
            "Requirement already satisfied: certifi>=2021.10.8 in /usr/local/lib/python3.11/dist-packages (from selenium) (2025.1.31)\n",
            "Requirement already satisfied: typing_extensions~=4.9 in /usr/local/lib/python3.11/dist-packages (from selenium) (4.12.2)\n",
            "Requirement already satisfied: websocket-client~=1.8 in /usr/local/lib/python3.11/dist-packages (from selenium) (1.8.0)\n",
            "Requirement already satisfied: soupsieve>1.2 in /usr/local/lib/python3.11/dist-packages (from beautifulsoup4) (2.6)\n",
            "Requirement already satisfied: requests in /usr/local/lib/python3.11/dist-packages (from webdriver-manager) (2.32.3)\n",
            "Requirement already satisfied: python-dotenv in /usr/local/lib/python3.11/dist-packages (from webdriver-manager) (1.0.1)\n",
            "Requirement already satisfied: packaging in /usr/local/lib/python3.11/dist-packages (from webdriver-manager) (24.2)\n",
            "Requirement already satisfied: attrs>=23.2.0 in /usr/local/lib/python3.11/dist-packages (from trio~=0.17->selenium) (25.1.0)\n",
            "Requirement already satisfied: sortedcontainers in /usr/local/lib/python3.11/dist-packages (from trio~=0.17->selenium) (2.4.0)\n",
            "Requirement already satisfied: idna in /usr/local/lib/python3.11/dist-packages (from trio~=0.17->selenium) (3.10)\n",
            "Requirement already satisfied: outcome in /usr/local/lib/python3.11/dist-packages (from trio~=0.17->selenium) (1.3.0.post0)\n",
            "Requirement already satisfied: sniffio>=1.3.0 in /usr/local/lib/python3.11/dist-packages (from trio~=0.17->selenium) (1.3.1)\n",
            "Requirement already satisfied: wsproto>=0.14 in /usr/local/lib/python3.11/dist-packages (from trio-websocket~=0.9->selenium) (1.2.0)\n",
            "Requirement already satisfied: pysocks!=1.5.7,<2.0,>=1.5.6 in /usr/local/lib/python3.11/dist-packages (from urllib3[socks]<3,>=1.26->selenium) (1.7.1)\n",
            "Requirement already satisfied: charset-normalizer<4,>=2 in /usr/local/lib/python3.11/dist-packages (from requests->webdriver-manager) (3.4.1)\n",
            "Requirement already satisfied: h11<1,>=0.9.0 in /usr/local/lib/python3.11/dist-packages (from wsproto>=0.14->trio-websocket~=0.9->selenium) (0.14.0)\n"
          ]
        }
      ]
    },
    {
      "cell_type": "code",
      "source": [
        "###############バージョン3#######################\n",
        "from selenium import webdriver\n",
        "from selenium.webdriver.chrome.service import Service\n",
        "from selenium.webdriver.common.by import By\n",
        "from selenium.webdriver.common.action_chains import ActionChains\n",
        "from webdriver_manager.chrome import ChromeDriverManager\n",
        "from bs4 import BeautifulSoup\n",
        "from datetime import datetime\n",
        "import time\n",
        "import pandas as pd\n",
        "import re\n",
        "\n",
        "# Seleniumセットアップ\n",
        "chrome_options = webdriver.ChromeOptions()\n",
        "chrome_options.add_argument(\"--headless\")\n",
        "chrome_options.add_argument(\"--no-sandbox\")\n",
        "chrome_options.add_argument(\"--disable-dev-shm-usage\")\n",
        "\n",
        "# WebDriverの起動\n",
        "service = Service(ChromeDriverManager().install())\n",
        "\n",
        "# 日付変換関数\n",
        "def convert_date_format_simple(date_str):\n",
        "    \"\"\"\n",
        "    '/' で分割して '2024年2月22日' に変換する方法\n",
        "    \"\"\"\n",
        "    parts = date_str.split(\"/\")\n",
        "    if len(parts) == 3:\n",
        "        return f\"{parts[0]}年{int(parts[1])}月{int(parts[2])}日\"\n",
        "    return date_str  # 変換できない場合はそのまま返す\n",
        "\n",
        "#HTMLから株価データを抽出する関数\n",
        "def extract_stock_data(html):\n",
        "    \"\"\"\n",
        "    HTMLを解析し、日付・始値・高値・安値・終値を取得\n",
        "    \"\"\"\n",
        "    soup = BeautifulSoup(html, \"html.parser\")\n",
        "\n",
        "    day_stock_data = []\n",
        "\n",
        "    for i in range(1, 6):\n",
        "        element = soup.select_one(\n",
        "            f'#highcharts-0 > div.highcharts-tooltip > span > table > tbody > tr:nth-child(1) > td:nth-child({i})'\n",
        "        )\n",
        "        if element:\n",
        "            st_data = element.get_text(strip=True)\n",
        "        else:\n",
        "            print(f\"⚠️ データ取得失敗: tr:nth-child({i}) のデータが見つかりません\")\n",
        "            st_data = \"N/A\"\n",
        "\n",
        "        # 日付のフォーマット変換\n",
        "        if i == 1:\n",
        "            try:\n",
        "                chg_date = convert_date_format_simple(st_data)\n",
        "                st_data = chg_date\n",
        "            except ValueError:\n",
        "                print(f\"⚠️ 日付フォーマットエラー: {st_data}\")\n",
        "                st_data = \"N/A\"\n",
        "        else:\n",
        "            st_data = float(st_data[4:].replace(',', ''))\n",
        "\n",
        "        day_stock_data.append(st_data)\n",
        "\n",
        "    return day_stock_data\n",
        "\n",
        "# Webページへアクセスし、データを抽出する関数\n",
        "def get_stock_values(chrome_driver, url):\n",
        "    chrome_driver.get(url)\n",
        "    time.sleep(3)\n",
        "\n",
        "    chart_element = chrome_driver.find_element(By.CSS_SELECTOR, \"#highcharts-0 > svg > g:nth-child(6)\")\n",
        "    graph_width = chart_element.size['width']\n",
        "    print(graph_width)\n",
        "\n",
        "    # グラフの中央にマウスポインタを移動する\n",
        "    chrome_actions = ActionChains(chrome_driver)\n",
        "    chrome_actions.move_to_element(chart_element).perform()\n",
        "    chrome_actions.move_by_offset(graph_width // 2, 0).perform()\n",
        "    time.sleep(1)\n",
        "\n",
        "    stock_data = []\n",
        "    tmp_date=\"\"\n",
        "\n",
        "    #graph_width分左に1pxずつ移動して値を取得\n",
        "    for _ in range(graph_width):\n",
        "        chrome_actions.move_by_offset(-1, 0).perform()\n",
        "        time.sleep(0.05)\n",
        "\n",
        "        html = chrome_driver.page_source.encode('utf-8')\n",
        "        data = extract_stock_data(html)\n",
        "\n",
        "        if data[0]!=tmp_date:\n",
        "            #print(data)\n",
        "            stock_data.append(data)\n",
        "\n",
        "        tmp_date=data[0]\n",
        "\n",
        "    return stock_data\n",
        "\n",
        "# --- 実行 ---\n",
        "if __name__ == \"__main__\":\n",
        "    # 日経平均株価のURL\n",
        "    url = \"https://www.nikkei.com/markets/worldidx/chart/nk225/?type=6month\"\n",
        "\n",
        "    # Google Chrome用のブラウザドライバーインスタンスを作成\n",
        "    chrome_driver = webdriver.Chrome(options=chrome_options)\n",
        "\n",
        "    # 時間の計測開始\n",
        "    start_time = time.time()\n",
        "\n",
        "    try:\n",
        "        stock_data = get_stock_values(chrome_driver, url)\n",
        "\n",
        "    finally:\n",
        "        chrome_driver.quit()\n",
        "\n",
        "    # スクレイピングの終了時間\n",
        "    end_time = time.time()\n",
        "    elapsed_time = end_time - start_time\n",
        "\n",
        "    # データをデータフレーム化\n",
        "    df = pd.DataFrame(stock_data, columns=[\"日付\", \"始値\", \"高値\", \"安値\", \"終値\"])\n",
        "\n",
        "    # データを出力# 結果の表示\n",
        "    print(f\"スクレイピング時間: {elapsed_time:.2f}秒\")\n",
        "    print(df)"
      ],
      "metadata": {
        "colab": {
          "base_uri": "https://localhost:8080/"
        },
        "id": "_2X4_sTjvpWu",
        "outputId": "2c6fd66b-6911-4088-916d-c7b0ceb65f8b"
      },
      "execution_count": null,
      "outputs": [
        {
          "output_type": "stream",
          "name": "stdout",
          "text": [
            "559\n",
            "スクレイピング時間: 367.36秒\n",
            "             日付        始値        高値        安値        終値\n",
            "0    2025年2月28日  37853.48  37925.28  36840.12  37155.50\n",
            "1    2025年2月27日  38251.11  38369.96  38061.94  38256.17\n",
            "2    2025年2月26日  38143.68  38175.24  37742.76  38142.37\n",
            "3    2025年2月25日  38359.67  38485.95  38131.79  38237.79\n",
            "4    2025年2月21日  38523.07  38808.81  38456.53  38776.94\n",
            "..          ...       ...       ...       ...       ...\n",
            "105  2024年9月20日  37714.07  37974.72  37654.11  37723.91\n",
            "106  2024年9月19日  36958.93  37394.52  36958.93  37155.33\n",
            "107  2024年9月18日  36546.04  36675.07  36127.45  36380.17\n",
            "108  2024年9月17日  36601.93  36663.18  35828.54  36203.22\n",
            "109  2024年9月13日  36882.41  36887.40  36441.34  36581.76\n",
            "\n",
            "[110 rows x 5 columns]\n"
          ]
        }
      ]
    },
    {
      "cell_type": "code",
      "source": [
        "\n"
      ],
      "metadata": {
        "id": "HWMZMnO9hc8Z"
      },
      "execution_count": null,
      "outputs": []
    }
  ]
}