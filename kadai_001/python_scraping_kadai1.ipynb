{
  "nbformat": 4,
  "nbformat_minor": 0,
  "metadata": {
    "colab": {
      "provenance": []
    },
    "kernelspec": {
      "name": "python3",
      "display_name": "Python 3"
    },
    "language_info": {
      "name": "python"
    }
  },
  "cells": [
    {
      "cell_type": "code",
      "execution_count": 1,
      "metadata": {
        "colab": {
          "base_uri": "https://localhost:8080/"
        },
        "id": "trc2m4OgG-u-",
        "outputId": "892c8e16-65a3-49ee-c772-c095bf58e85a"
      },
      "outputs": [
        {
          "output_type": "stream",
          "name": "stdout",
          "text": [
            "Requirement already satisfied: requests in /usr/local/lib/python3.10/dist-packages (2.32.3)\n",
            "Requirement already satisfied: charset-normalizer<4,>=2 in /usr/local/lib/python3.10/dist-packages (from requests) (3.4.0)\n",
            "Requirement already satisfied: idna<4,>=2.5 in /usr/local/lib/python3.10/dist-packages (from requests) (3.10)\n",
            "Requirement already satisfied: urllib3<3,>=1.21.1 in /usr/local/lib/python3.10/dist-packages (from requests) (2.2.3)\n",
            "Requirement already satisfied: certifi>=2017.4.17 in /usr/local/lib/python3.10/dist-packages (from requests) (2024.8.30)\n",
            "Requirement already satisfied: beautifulsoup4 in /usr/local/lib/python3.10/dist-packages (4.12.3)\n",
            "Requirement already satisfied: soupsieve>1.2 in /usr/local/lib/python3.10/dist-packages (from beautifulsoup4) (2.6)\n"
          ]
        }
      ],
      "source": [
        "!pip install requests\n",
        "!pip install beautifulsoup4\n",
        "import requests\n",
        "from bs4 import BeautifulSoup"
      ]
    },
    {
      "cell_type": "code",
      "source": [
        "url='https://news.yahoo.co.jp/articles/087b2775b4771e871ae40f3138013562639e0da6'\n",
        "response=requests.get(url)\n",
        "soup=BeautifulSoup(response.text,'html.parser')\n",
        "title_element=soup.select_one('#uamods>div.article_body.highLightSearchTarget')\n",
        "title_text=title_element.text\n",
        "print(title_text)"
      ],
      "metadata": {
        "colab": {
          "base_uri": "https://localhost:8080/"
        },
        "id": "-aegMkcUHGmt",
        "outputId": "eba80bef-29b5-40e3-f015-37482b88a34b"
      },
      "execution_count": 2,
      "outputs": [
        {
          "output_type": "stream",
          "name": "stdout",
          "text": [
            "日テレNEWS NNN韓国政府の高官は24日、北朝鮮が追加の軍事偵察衛星の打ち上げを年内にも強行する可能性が高いとの見方を明らかにしました。\n",
            "\n",
            "【画像】北朝鮮製ドローン兵器のキーマン　カンボジアに“外交官”として潜伏　偽名は「Douglas」\n",
            "\n",
            "北朝鮮は去年11月に初となる軍事偵察衛星を打ち上げていますが、金正恩総書記は今年中に追加で3基の衛星を打ち上げる方針を示しています。\n",
            "\n",
            "今年5月には衛星の追加打ち上げに失敗していて、その後、打ち上げの兆候は確認されてきませんでした。\n",
            "\n",
            "こうした中、韓国大統領府の高官は24日、北朝鮮が追加打ち上げに向けた最終段階にあるとの見方を示しました。\n",
            "\n",
            "その上で、発射台の準備など差し迫った兆候はないものの、年内に打ち上げが強行される可能性が高いと明らかにしました。\n"
          ]
        }
      ]
    },
    {
      "cell_type": "code",
      "source": [],
      "metadata": {
        "id": "Hi40uqOnHSeR"
      },
      "execution_count": null,
      "outputs": []
    }
  ]
}