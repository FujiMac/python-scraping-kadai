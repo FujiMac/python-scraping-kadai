{
  "nbformat": 4,
  "nbformat_minor": 0,
  "metadata": {
    "colab": {
      "provenance": []
    },
    "kernelspec": {
      "name": "python3",
      "display_name": "Python 3"
    },
    "language_info": {
      "name": "python"
    }
  },
  "cells": [
    {
      "cell_type": "code",
      "execution_count": 2,
      "metadata": {
        "colab": {
          "base_uri": "https://localhost:8080/"
        },
        "id": "SW0m6w0MM8Sq",
        "outputId": "fd35a822-e0ba-43d5-fa56-512f9ea96fb7"
      },
      "outputs": [
        {
          "output_type": "stream",
          "name": "stdout",
          "text": [
            "Requirement already satisfied: requests in /usr/local/lib/python3.10/dist-packages (2.32.3)\n",
            "Requirement already satisfied: charset-normalizer<4,>=2 in /usr/local/lib/python3.10/dist-packages (from requests) (3.4.0)\n",
            "Requirement already satisfied: idna<4,>=2.5 in /usr/local/lib/python3.10/dist-packages (from requests) (3.10)\n",
            "Requirement already satisfied: urllib3<3,>=1.21.1 in /usr/local/lib/python3.10/dist-packages (from requests) (2.2.3)\n",
            "Requirement already satisfied: certifi>=2017.4.17 in /usr/local/lib/python3.10/dist-packages (from requests) (2024.8.30)\n"
          ]
        }
      ],
      "source": [
        "!pip install requests"
      ]
    },
    {
      "cell_type": "code",
      "source": [
        "import requests\n",
        "import pprint\n",
        "from getpass import getpass"
      ],
      "metadata": {
        "id": "BwV1RaABNZtE"
      },
      "execution_count": 3,
      "outputs": []
    },
    {
      "cell_type": "markdown",
      "source": [],
      "metadata": {
        "id": "sYCMgyVG8mRF"
      }
    },
    {
      "cell_type": "code",
      "source": [
        "api_key = getpass(\"APIキーを入力してください:\")"
      ],
      "metadata": {
        "colab": {
          "base_uri": "https://localhost:8080/"
        },
        "id": "gQhC4YGYNj0n",
        "outputId": "c9a69900-067d-448f-a420-68a790331fdc"
      },
      "execution_count": 4,
      "outputs": [
        {
          "name": "stdout",
          "output_type": "stream",
          "text": [
            "APIキーを入力してください:··········\n"
          ]
        }
      ]
    },
    {
      "cell_type": "code",
      "source": [
        "search_term = input(\"検索したい駅名を入力してください: \")"
      ],
      "metadata": {
        "colab": {
          "base_uri": "https://localhost:8080/"
        },
        "id": "5aAQ1l86NtFg",
        "outputId": "0a77d718-ea59-431b-c04f-52bf21c2ded4"
      },
      "execution_count": 5,
      "outputs": [
        {
          "name": "stdout",
          "output_type": "stream",
          "text": [
            "検索したい駅名を入力してください: 田町駅\n"
          ]
        }
      ]
    },
    {
      "cell_type": "code",
      "source": [
        "url='https://maps.googleapis.com/maps/api/geocode/json'\n",
        "\n",
        "response=requests.get(\n",
        "    url,\n",
        "    params={\n",
        "        'key':api_key,\n",
        "        'address': search_term,\n",
        "    }\n",
        ")"
      ],
      "metadata": {
        "id": "IuCgffE3OG7R"
      },
      "execution_count": 6,
      "outputs": []
    },
    {
      "cell_type": "code",
      "source": [
        "json_data=response.json()\n",
        "#pprint.pprint(json_data)"
      ],
      "metadata": {
        "id": "OqsyLg_4TaXf"
      },
      "execution_count": 26,
      "outputs": []
    },
    {
      "cell_type": "code",
      "source": [
        "for item in json_data['results']:\n",
        "    lat=item['geometry']['location']['lat']\n",
        "    lng=item['geometry']['location']['lng']\n",
        "    #print(f'{lat}:{lng}')"
      ],
      "metadata": {
        "id": "NGzjTIIxXcJ6"
      },
      "execution_count": 27,
      "outputs": []
    },
    {
      "cell_type": "code",
      "source": [
        "url2='https://maps.googleapis.com/maps/api/place/nearbysearch/json'\n",
        "\n",
        "response2=requests.get(\n",
        "    url2,\n",
        "    params={\n",
        "        'key':api_key,\n",
        "        'location': f'{lat},{lng}',\n",
        "        'language':'ja',\n",
        "        'radius':500,\n",
        "        'type':'restaurant',\n",
        "        'maxResults':2\n",
        "    }\n",
        ")\n",
        "json_data2=response2.json()\n",
        "#pprint.pprint(json_data2)"
      ],
      "metadata": {
        "id": "cbn_DrozPQBo"
      },
      "execution_count": 28,
      "outputs": []
    },
    {
      "cell_type": "code",
      "source": [
        "for item in json_data2['results']:\n",
        "    rest_name=item['name']\n",
        "    rest_rat=item['rating']\n",
        "    rest_add=item['vicinity']\n",
        "    print(f'{rest_name}:{rest_rat}/{rest_add}')"
      ],
      "metadata": {
        "id": "xrLA_KVzQif7",
        "colab": {
          "base_uri": "https://localhost:8080/"
        },
        "outputId": "8c904d1e-5941-484b-8cb5-626f933b0120"
      },
      "execution_count": 29,
      "outputs": [
        {
          "output_type": "stream",
          "name": "stdout",
          "text": [
            "Farmer's Chicken:4.5/港区芝４丁目５−１５ クレール芝 １Ｆ\n",
            "ガスト 三田慶応大学前店（から好し取扱店）:3.3/プレミアステージ三田慶大前, ２階, ５丁目-１４-10 芝, 港区\n",
            "RISTORANTE La Ciau:4.5/港区芝浦２丁目１６−７ 中野第三ビルB1\n",
            "がんぎ 三田店:3.9/港区芝５丁目３０−１\n",
            "晩翠 三田総本店:4.2/港区芝５丁目２３−１０\n",
            "浪花かすうどん むねひろ:4/港区芝４丁目５−１５\n",
            "中国料理 龍門:3.8/港区芝５丁目２６−４ B1\n",
            "滴屋:4.1/港区芝５丁目１２−１２\n",
            "くいもの屋わん 田町店:3.2/港区芝５丁目３１−２４ 勝文館共同ビル2・3F\n",
            "MEAT&WINE WINEHALL GLAMOUR 田町:3.9/港区芝５丁目２７−１０ サンシャイン5ビル 2F\n",
            "ホテルグレイスリー田町:4.1/港区芝浦３丁目８−１\n",
            "日本栄光酒場ロッキーカナイ 田町:3.6/港区芝浦３丁目６−１ ふじやビル\n",
            "焼肉 PANCHAN:4.1/港区芝５丁目２４−１６\n",
            "中華居酒屋 興祥園 田町店:3.8/港区芝浦３丁目１４−５ テクス芝浦ビル B1\n",
            "はま多:4.4/港区芝５丁目２４−１３\n",
            "GARDEN BISTRO&WINE:4/港区芝５丁目２３−２ Mita 3Kビル 1F\n",
            "SUSHI KISARAGI:4.6/港区芝４丁目４−４ レオナール三田 1階\n",
            "鉄鍋ビストロ BLACK POT:4/港区芝５丁目１７−１０\n",
            "○気:4.1/港区芝５丁目２６−３０ 専売ビル\n",
            "中国家庭料理 大連:3.9/港区芝５丁目１５−３ 大連ビル\n"
          ]
        }
      ]
    },
    {
      "cell_type": "code",
      "source": [],
      "metadata": {
        "id": "wO05O5BFg6ZS"
      },
      "execution_count": null,
      "outputs": []
    }
  ]
}