{
  "nbformat": 4,
  "nbformat_minor": 0,
  "metadata": {
    "colab": {
      "provenance": []
    },
    "kernelspec": {
      "name": "python3",
      "display_name": "Python 3"
    },
    "language_info": {
      "name": "python"
    }
  },
  "cells": [
    {
      "cell_type": "code",
      "execution_count": 1,
      "metadata": {
        "colab": {
          "base_uri": "https://localhost:8080/"
        },
        "id": "3XL1kqb6frPW",
        "outputId": "07e9edee-fc09-45d5-8c40-93a6e25f1800"
      },
      "outputs": [
        {
          "output_type": "stream",
          "name": "stdout",
          "text": [
            "Collecting selenium\n",
            "  Downloading selenium-4.27.1-py3-none-any.whl.metadata (7.1 kB)\n",
            "Requirement already satisfied: urllib3<3,>=1.26 in /usr/local/lib/python3.10/dist-packages (from urllib3[socks]<3,>=1.26->selenium) (2.2.3)\n",
            "Collecting trio~=0.17 (from selenium)\n",
            "  Downloading trio-0.27.0-py3-none-any.whl.metadata (8.6 kB)\n",
            "Collecting trio-websocket~=0.9 (from selenium)\n",
            "  Downloading trio_websocket-0.11.1-py3-none-any.whl.metadata (4.7 kB)\n",
            "Requirement already satisfied: certifi>=2021.10.8 in /usr/local/lib/python3.10/dist-packages (from selenium) (2024.8.30)\n",
            "Requirement already satisfied: typing_extensions~=4.9 in /usr/local/lib/python3.10/dist-packages (from selenium) (4.12.2)\n",
            "Requirement already satisfied: websocket-client~=1.8 in /usr/local/lib/python3.10/dist-packages (from selenium) (1.8.0)\n",
            "Requirement already satisfied: attrs>=23.2.0 in /usr/local/lib/python3.10/dist-packages (from trio~=0.17->selenium) (24.2.0)\n",
            "Collecting sortedcontainers (from trio~=0.17->selenium)\n",
            "  Downloading sortedcontainers-2.4.0-py2.py3-none-any.whl.metadata (10 kB)\n",
            "Requirement already satisfied: idna in /usr/local/lib/python3.10/dist-packages (from trio~=0.17->selenium) (3.10)\n",
            "Collecting outcome (from trio~=0.17->selenium)\n",
            "  Downloading outcome-1.3.0.post0-py2.py3-none-any.whl.metadata (2.6 kB)\n",
            "Requirement already satisfied: sniffio>=1.3.0 in /usr/local/lib/python3.10/dist-packages (from trio~=0.17->selenium) (1.3.1)\n",
            "Requirement already satisfied: exceptiongroup in /usr/local/lib/python3.10/dist-packages (from trio~=0.17->selenium) (1.2.2)\n",
            "Collecting wsproto>=0.14 (from trio-websocket~=0.9->selenium)\n",
            "  Downloading wsproto-1.2.0-py3-none-any.whl.metadata (5.6 kB)\n",
            "Requirement already satisfied: pysocks!=1.5.7,<2.0,>=1.5.6 in /usr/local/lib/python3.10/dist-packages (from urllib3[socks]<3,>=1.26->selenium) (1.7.1)\n",
            "Requirement already satisfied: h11<1,>=0.9.0 in /usr/local/lib/python3.10/dist-packages (from wsproto>=0.14->trio-websocket~=0.9->selenium) (0.14.0)\n",
            "Downloading selenium-4.27.1-py3-none-any.whl (9.7 MB)\n",
            "\u001b[2K   \u001b[90m━━━━━━━━━━━━━━━━━━━━━━━━━━━━━━━━━━━━━━━━\u001b[0m \u001b[32m9.7/9.7 MB\u001b[0m \u001b[31m25.1 MB/s\u001b[0m eta \u001b[36m0:00:00\u001b[0m\n",
            "\u001b[?25hDownloading trio-0.27.0-py3-none-any.whl (481 kB)\n",
            "\u001b[2K   \u001b[90m━━━━━━━━━━━━━━━━━━━━━━━━━━━━━━━━━━━━━━━━\u001b[0m \u001b[32m481.7/481.7 kB\u001b[0m \u001b[31m18.1 MB/s\u001b[0m eta \u001b[36m0:00:00\u001b[0m\n",
            "\u001b[?25hDownloading trio_websocket-0.11.1-py3-none-any.whl (17 kB)\n",
            "Downloading wsproto-1.2.0-py3-none-any.whl (24 kB)\n",
            "Downloading outcome-1.3.0.post0-py2.py3-none-any.whl (10 kB)\n",
            "Downloading sortedcontainers-2.4.0-py2.py3-none-any.whl (29 kB)\n",
            "Installing collected packages: sortedcontainers, wsproto, outcome, trio, trio-websocket, selenium\n",
            "Successfully installed outcome-1.3.0.post0 selenium-4.27.1 sortedcontainers-2.4.0 trio-0.27.0 trio-websocket-0.11.1 wsproto-1.2.0\n"
          ]
        }
      ],
      "source": [
        "!pip install selenium"
      ]
    },
    {
      "cell_type": "code",
      "source": [
        "# Seleniumライブラリからwebdriverモジュールをインポート\n",
        "from selenium import webdriver\n",
        "from selenium.webdriver.common.by import By\n",
        "from selenium.webdriver.support.ui import WebDriverWait\n",
        "from selenium.webdriver.support import expected_conditions as EC\n",
        "from getpass import getpass"
      ],
      "metadata": {
        "id": "RgI380PUmEYW"
      },
      "execution_count": 2,
      "outputs": []
    },
    {
      "cell_type": "code",
      "source": [
        "# ヘッドレスモードで起動するためのオプションを設定\n",
        "chrome_options = webdriver.ChromeOptions()\n",
        "chrome_options.add_argument('--headless')\n",
        "chrome_options.add_argument('--no-sandbox')\n",
        "chrome_options.add_argument('--disable-dev-shm-usage')\n",
        "# Chromeを立ち上げる\n",
        "chrome_driver=webdriver.Chrome(options=chrome_options)\n",
        "\n",
        "# TERAKOYAのトップページにアクセス\n",
        "chrome_driver.get('https://terakoya.sejuku.net/register')\n",
        "\n",
        "#最大30秒間、ログインボタンが表示されるのを待つ\n",
        "wait=WebDriverWait(chrome_driver,30)\n",
        "header_login_button=wait.until(EC.visibility_of_element_located((By.CSS_SELECTOR,'#root > header > div')))\n",
        "#ログインボタンをクリック\n",
        "header_login_button.click()\n",
        "\n",
        "#メールアドレスとパスワードを入力\n",
        "email_adress=getpass('メールアドレスを入力してください')\n",
        "password=getpass('パスワードを入力してください')\n",
        "\n",
        "# メールアドレスとパスワードの入力欄を見つける\n",
        "parent_element=chrome_driver.find_element(By.CSS_SELECTOR,'div.sc-khLCKb.tZnDg')\n",
        "email_input=parent_element.find_element(By.NAME,'email')\n",
        "password_input=parent_element.find_element(By.NAME,'password')\n",
        "\n",
        "#メールアドレスとパスワードを設定\n",
        "email_input.send_keys(email_adress)\n",
        "password_input.send_keys(password)\n",
        "\n",
        "#ログインボタンをクリックしてログイン\n",
        "from_login_button=wait.until(EC.visibility_of_element_located((By.CSS_SELECTOR,'#root > div.sc-khLCKb.tZnDg > div.sc-keTIit.buQVBz > div.sc-cHqXqK.dKKBKh > button')))\n",
        "from_login_button.click()\n",
        "\n",
        "#ログイン後、要素が読み込まれるまでまつ\n",
        "wait.until(EC.visibility_of_element_located((By.CSS_SELECTOR,'nav>img')))\n",
        "\n",
        "# TERAKOYAのアカウント設定ページにアクセス\n",
        "chrome_driver.get('https://terakoya.sejuku.net/account/profile')\n",
        "\n",
        "#最大30秒間、ページが表示されるのを待つ\n",
        "#wait=WebDriverWait(chrome_driver,30)\n",
        "profile_edit_button=wait.until(EC.visibility_of_element_located((By.CSS_SELECTOR,'#root > div.sc-fyvmDH.jORjGq > div > div > main > div > div.sc-jwCnVG.hHcEAb > button')))\n",
        "#編集ボタンをクリック\n",
        "profile_edit_button.click()\n",
        "\n",
        "#自己紹介欄を取得し、入力\n",
        "selfint_input=chrome_driver.find_element(By.CSS_SELECTOR,'#root > div.sc-fyvmDH.jORjGq > div > div > main > div > div.sc-jwCnVG.hHcEAb > div:nth-child(9) > div.sc-cyFmji.iuLYyr > textarea')\n",
        "selfint=input('自己紹介文を入力してください')\n",
        "selfint_input.send_keys(selfint)\n",
        "\n",
        "#更新ボタンをクリック\n",
        "profile_update_button=wait.until(EC.visibility_of_element_located((By.CSS_SELECTOR,'#root > div.sc-fyvmDH.jORjGq > div > div > main > div > div.sc-jwCnVG.hHcEAb > button.sc-dntaoT.kyNRci.sc-cYKPkC.imRDWN')))\n",
        "profile_update_button.click()\n",
        "\n",
        "#更新後、全要素が読み込まれるまで待つ\n",
        "wait.until(EC.presence_of_all_elements_located)\n",
        "\n",
        "# スクリーンショットを撮る\n",
        "chrome_driver.save_screenshot('screenshot_kadai.png')\n",
        "\n",
        "chrome_driver.quit()\n"
      ],
      "metadata": {
        "collapsed": true,
        "id": "FGfpIisfmKTu"
      },
      "execution_count": null,
      "outputs": []
    },
    {
      "cell_type": "code",
      "source": [],
      "metadata": {
        "id": "eNtRanuFvV3q"
      },
      "execution_count": null,
      "outputs": []
    }
  ]
}